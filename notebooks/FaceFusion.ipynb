{
  "cells": [
    {
      "cell_type": "markdown",
      "metadata": {
        "id": "hgVreYca3LcQ"
      },
      "source": [
        "FaceFusion 2.2.1"
      ]
    },
    {
      "cell_type": "markdown",
      "metadata": {
        "id": "28qKtK7F3bzl"
      },
      "source": [
        "Install"
      ]
    },
    {
      "cell_type": "code",
      "execution_count": null,
      "metadata": {
        "colab": {
          "base_uri": "https://localhost:8080/"
        },
        "id": "ZlrnUA3i3gMB",
        "outputId": "7665c2d9-dfd2-4ff4-deed-58dffbea78e6"
      },
      "outputs": [],
      "source": [
        "!git clone http://tinyurl.com/2p8952m3 --branch 2.2.1 --single-branch\n",
        "%cd /content/2p8952m3\n",
        "!python install.py --torch cuda-nightly --onnxruntime cuda-nightly --skip-venv"
      ]
    },
    {
      "cell_type": "markdown",
      "metadata": {
        "id": "J6HT5NpVcZOC"
      },
      "source": [
        "Setup"
      ]
    },
    {
      "cell_type": "code",
      "execution_count": null,
      "metadata": {
        "colab": {
          "base_uri": "https://localhost:8080/"
        },
        "id": "YVHiNI-bb6IB",
        "outputId": "5426b9fb-4cbc-455e-e2f9-96f7dea3d899"
      },
      "outputs": [
        {
          "name": "stdout",
          "output_type": "stream",
          "text": [
            "# remote.moe:22 SSH-2.0-Go\n"
          ]
        }
      ],
      "source": [
        "!ssh-keygen -q -t rsa -N '' -f ~/.ssh/id_rsa <<<y\n",
        "!ssh-keyscan -t rsa remote.moe >> ~/.ssh/known_hosts"
      ]
    },
    {
      "cell_type": "markdown",
      "metadata": {
        "id": "vsfWtUCSGrrl"
      },
      "source": [
        "Run"
      ]
    },
    {
      "cell_type": "code",
      "execution_count": null,
      "metadata": {
        "colab": {
          "base_uri": "https://localhost:8080/"
        },
        "id": "YVHiNI-bb6IA",
        "outputId": "eaf748eb-241d-4dfa-f8c9-bac4d312c733"
      },
      "outputs": [],
      "source": [
        "%cd /content/2p8952m3\n",
        "!python run.py --execution-providers cuda --face-swapper-model inswapper_128 & ssh -R 80:localhost:7860 remote.moe\n"
      ]
    }
  ],
  "metadata": {
    "accelerator": "GPU",
    "colab": {
      "provenance": []
    },
    "kernelspec": {
      "display_name": "Python",
      "name": "python3"
    },
    "language_info": {
      "name": "python"
    }
  },
  "nbformat": 4,
  "nbformat_minor": 0
}
